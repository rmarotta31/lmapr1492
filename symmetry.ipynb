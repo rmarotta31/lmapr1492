{
 "cells": [
  {
   "cell_type": "code",
   "execution_count": 1,
   "id": "2f487ea2",
   "metadata": {},
   "outputs": [],
   "source": [
    "import numpy as np\n",
    "from mp_api.client import MPRester\n",
    "from pymatgen.core.operations import SymmOp\n",
    "from pymatgen.symmetry.analyzer import SpacegroupAnalyzer\n",
    "from pymatgen.electronic_structure.plotter import BSPlotter\n",
    "from pymatgen.phonon.plotter import PhononBSPlotter\n",
    "from jupyter_jsmol.pymatgen import quick_view\n",
    "from lmapr1492 import plot_brillouin_zone, get_plot_bs, get_plot_dos, get_plot_bs_and_dos, get_branch_wavevectors\n",
    "from plotly.subplots import make_subplots\n",
    "import plotly.graph_objects as go"
   ]
  },
  {
   "cell_type": "code",
   "execution_count": 2,
   "id": "3eee7073",
   "metadata": {},
   "outputs": [
    {
     "data": {
      "application/vnd.jupyter.widget-view+json": {
       "model_id": "91b8ba32beca4cea822654c120148ec9",
       "version_major": 2,
       "version_minor": 0
      },
      "text/plain": [
       "Retrieving MaterialsDoc documents:   0%|          | 0/1 [00:00<?, ?it/s]"
      ]
     },
     "metadata": {},
     "output_type": "display_data"
    }
   ],
   "source": [
    "with MPRester(\"kMkuaNd0F7org0EE2QryQaonTKfVvGw4\") as m:\n",
    "    structure = m.get_structure_by_material_id(\"mp-10226\")\n",
    "struct = SpacegroupAnalyzer(structure)\n",
    "struct_con = struct.get_conventional_standard_structure()\n",
    "struct_analyze = SpacegroupAnalyzer(struct_con)"
   ]
  },
  {
   "cell_type": "code",
   "execution_count": 3,
   "id": "c4d01083",
   "metadata": {
    "scrolled": true
   },
   "outputs": [
    {
     "data": {
      "application/vnd.jupyter.widget-view+json": {
       "model_id": "60c0d1e6794a471d8fb14191ab6b2de6",
       "version_major": 2,
       "version_minor": 0
      },
      "text/plain": [
       "JsmolView(layout=Layout(align_self='stretch', height='400px'))"
      ]
     },
     "metadata": {},
     "output_type": "display_data"
    }
   ],
   "source": [
    "view = quick_view(struct_con,supercell=[1,1,1])\n",
    "display(view)"
   ]
  },
  {
   "cell_type": "code",
   "execution_count": 90,
   "id": "f31c0e1d",
   "metadata": {},
   "outputs": [],
   "source": [
    "sym = SpacegroupAnalyzer(structure).get_symmetry_operations()\n",
    "\n",
    "# Symétries choisies pour les atomes\n",
    "# inversion (-x;-y;-z)\n",
    "S1 = sym[2]\n",
    "# roto-inversion\n",
    "S2 = sym[14]\n",
    "# roto-réflexion\n",
    "S3 = sym[16]\n",
    "\n",
    "# Atomes choisis\n",
    "Na = [0.0, 1.0, 0.0]\n",
    "Y = [1.0, 0.0, 0.5]\n",
    "S = [0.0, 0.0, 0.25]\n",
    "\n",
    "# Application des symétries\n",
    "Na_sym = S1.operate(Na)\n",
    "Y_sym = S2.operate(Y)\n",
    "S_sym = S3.operate(S)"
   ]
  },
  {
   "cell_type": "code",
   "execution_count": 91,
   "id": "42f77a55",
   "metadata": {},
   "outputs": [
    {
     "name": "stdout",
     "output_type": "stream",
     "text": [
      "Opération de symétrie 1: \n",
      "\n",
      "L'atome de départ est le Na et a comme coordonnées: [0.0, 1.0, 0.0]\n",
      "\n",
      "On lui applique une symétrie de centre 0 (inversion):\n",
      "\n",
      "[[-1.  0.  0.]\n",
      " [ 0. -1.  0.]\n",
      " [ 0.  0. -1.]] * [0.0, 1.0, 0.0] + [0. 0. 0.]\n",
      "L'atome d'arrivé a comme coordonnées : [ 0. -1.  0.]\n",
      "\n"
     ]
    }
   ],
   "source": [
    "print(\"Opération de symétrie 1: \\n\")\n",
    "print(\"L'atome de départ est le Na et a comme coordonnées: {}\\n\".format(Na))\n",
    "print(\"On lui applique une symétrie de centre 0 (inversion):\\n\")\n",
    "print(S1.rotation_matrix, \"*\", Na, '+', S1.translation_vector)\n",
    "print(\"L'atome d'arrivé a comme coordonnées : {}\\n\".format(Na_sym))\n"
   ]
  },
  {
   "cell_type": "code",
   "execution_count": 94,
   "id": "822791b7",
   "metadata": {},
   "outputs": [
    {
     "name": "stdout",
     "output_type": "stream",
     "text": [
      "Opération de symétrie 2: \n",
      "\n",
      "L'atome de départ est l'Y et a comme coordonnées: [1.0, 0.0, 0.5]\n",
      "\n",
      "On lui applique une roto-inversion (z,y,x) :\n",
      "[[0. 0. 1.]\n",
      " [0. 1. 0.]\n",
      " [1. 0. 0.]] * [1.0, 0.0, 0.5] + [0. 0. 0.]\n",
      "L'atome d'arrivé a comme coordonnées : [0.5 0.  1. ]\n",
      "\n"
     ]
    }
   ],
   "source": [
    "print(\"Opération de symétrie 2: \\n\")\n",
    "print(\"L'atome de départ est l'Y et a comme coordonnées: {}\\n\".format(Y))\n",
    "print(\"On lui applique une roto-inversion (z,y,x) :\")\n",
    "print(S2.rotation_matrix, \"*\", Y, '+', S2.translation_vector)\n",
    "print(\"L'atome d'arrivé a comme coordonnées : {}\\n\".format(Y_sym))\n"
   ]
  },
  {
   "cell_type": "code",
   "execution_count": 96,
   "id": "15147cee",
   "metadata": {},
   "outputs": [
    {
     "name": "stdout",
     "output_type": "stream",
     "text": [
      "Opération de symétrie 3: \n",
      "\n",
      "L'atome de départ est le S et a comme coordonnées: [0.0, 0.0, 0.25]\n",
      "\n",
      "On lui applique une roto-réflexion (-x,-z,-y) : \n",
      "[[-1.  0.  0.]\n",
      " [ 0.  0. -1.]\n",
      " [ 0. -1.  0.]] * [0.0, 0.0, 0.25] + [0. 0. 0.]\n",
      "L'atome d'arrivé a comme coordonnées : [ 0.   -0.25  0.  ]\n",
      "\n"
     ]
    }
   ],
   "source": [
    "print(\"Opération de symétrie 3: \\n\")\n",
    "print(\"L'atome de départ est le S et a comme coordonnées: {}\\n\".format(S))\n",
    "print(\"On lui applique une roto-réflexion (-x,-z,-y) : \")\n",
    "print(S3.rotation_matrix, \"*\", S, '+', S3.translation_vector)\n",
    "print(\"L'atome d'arrivé a comme coordonnées : {}\\n\".format(S_sym))\n"
   ]
  },
  {
   "cell_type": "code",
   "execution_count": null,
   "id": "b270eb08",
   "metadata": {},
   "outputs": [],
   "source": []
  }
 ],
 "metadata": {
  "kernelspec": {
   "display_name": "Python 3 (ipykernel)",
   "language": "python",
   "name": "python3"
  },
  "language_info": {
   "codemirror_mode": {
    "name": "ipython",
    "version": 3
   },
   "file_extension": ".py",
   "mimetype": "text/x-python",
   "name": "python",
   "nbconvert_exporter": "python",
   "pygments_lexer": "ipython3",
   "version": "3.9.13"
  }
 },
 "nbformat": 4,
 "nbformat_minor": 5
}
