{
 "cells": [
  {
   "cell_type": "code",
   "execution_count": 12,
   "id": "0f4fca0b",
   "metadata": {},
   "outputs": [],
   "source": [
    "import numpy as np\n",
    "from mp_api.client import MPRester\n",
    "from pymatgen.core.operations import SymmOp\n",
    "from pymatgen.symmetry.analyzer import SpacegroupAnalyzer\n",
    "from pymatgen.electronic_structure.plotter import BSPlotter\n",
    "from pymatgen.phonon.plotter import PhononBSPlotter\n",
    "from jupyter_jsmol.pymatgen import quick_view\n",
    "from lmapr1492 import plot_brillouin_zone, get_plot_bs, get_plot_dos, get_plot_bs_and_dos, get_branch_wavevectors\n",
    "from plotly.subplots import make_subplots\n",
    "import plotly.graph_objects as go"
   ]
  },
  {
   "cell_type": "code",
   "execution_count": 13,
   "id": "652d697f",
   "metadata": {},
   "outputs": [
    {
     "data": {
      "application/vnd.jupyter.widget-view+json": {
       "model_id": "5dbb0ad4e25a4abe8201f5be242073b0",
       "version_major": 2,
       "version_minor": 0
      },
      "text/plain": [
       "Retrieving MaterialsDoc documents:   0%|          | 0/1 [00:00<?, ?it/s]"
      ]
     },
     "metadata": {},
     "output_type": "display_data"
    }
   ],
   "source": [
    "with MPRester(\"kMkuaNd0F7org0EE2QryQaonTKfVvGw4\") as m:\n",
    "    structure = m.get_structure_by_material_id(\"mp-10226\")\n",
    "struct = SpacegroupAnalyzer(structure)\n",
    "struct_con = struct.get_conventional_standard_structure()"
   ]
  },
  {
   "cell_type": "code",
   "execution_count": 14,
   "id": "e4048994",
   "metadata": {},
   "outputs": [
    {
     "name": "stdout",
     "output_type": "stream",
     "text": [
      "a = [ 1.98776032 -3.44290188  0.        ]\n",
      "b = [1.98776032 3.44290188 0.        ]\n",
      "c = [ 0.          0.         19.80257935]\n"
     ]
    }
   ],
   "source": [
    "abc = struct_con.lattice.matrix\n",
    "a = abc[0]\n",
    "b = abc[1]\n",
    "c = abc[2]\n",
    "\n",
    "print(\"a = \"+str(a))\n",
    "print(\"b = \"+str(b))\n",
    "print(\"c = \"+str(c))"
   ]
  },
  {
   "cell_type": "code",
   "execution_count": 15,
   "id": "ad08611a",
   "metadata": {},
   "outputs": [
    {
     "name": "stdout",
     "output_type": "stream",
     "text": [
      "h = [ 1.58046854 -0.91248394  0.        ]\n",
      "k = [1.58046854 0.91248394 0.        ]\n",
      "l = [0.         0.         0.31729126]\n"
     ]
    }
   ],
   "source": [
    "hkl = struct_con.lattice.reciprocal_lattice.matrix\n",
    "h = hkl[0]\n",
    "k = hkl[1]\n",
    "l = hkl[2]\n",
    "print(\"h = \"+str(h))\n",
    "print(\"k = \"+str(k))\n",
    "print(\"l = \"+str(l))"
   ]
  },
  {
   "cell_type": "code",
   "execution_count": 16,
   "id": "c875df46",
   "metadata": {},
   "outputs": [
    {
     "name": "stdout",
     "output_type": "stream",
     "text": [
      "R\n"
     ]
    }
   ],
   "source": [
    "mesh = struct.get_space_group_symbol()\n",
    "print(str(mesh[0]))"
   ]
  },
  {
   "cell_type": "raw",
   "id": "1fcdff79",
   "metadata": {},
   "source": [
    "Maille rhomboédrique"
   ]
  },
  {
   "cell_type": "code",
   "execution_count": 17,
   "id": "0ad24656",
   "metadata": {},
   "outputs": [
    {
     "name": "stdout",
     "output_type": "stream",
     "text": [
      "trigonal\n"
     ]
    }
   ],
   "source": [
    "cristal_systm = struct.get_crystal_system()\n",
    "print(str(cristal_systm))"
   ]
  },
  {
   "cell_type": "code",
   "execution_count": 18,
   "id": "36765fb0",
   "metadata": {},
   "outputs": [
    {
     "name": "stdout",
     "output_type": "stream",
     "text": [
      "Groupe ponctuel : -3m.\n"
     ]
    }
   ],
   "source": [
    "point_group = struct.get_point_group_symbol()\n",
    "print(\"Groupe ponctuel : \"+str(point_group)+\".\")"
   ]
  },
  {
   "cell_type": "code",
   "execution_count": null,
   "id": "0c9d9784",
   "metadata": {},
   "outputs": [],
   "source": []
  },
  {
   "cell_type": "code",
   "execution_count": null,
   "id": "6a0ba52b",
   "metadata": {},
   "outputs": [],
   "source": []
  }
 ],
 "metadata": {
  "kernelspec": {
   "display_name": "Python 3 (ipykernel)",
   "language": "python",
   "name": "python3"
  },
  "language_info": {
   "codemirror_mode": {
    "name": "ipython",
    "version": 3
   },
   "file_extension": ".py",
   "mimetype": "text/x-python",
   "name": "python",
   "nbconvert_exporter": "python",
   "pygments_lexer": "ipython3",
   "version": "3.9.13"
  }
 },
 "nbformat": 4,
 "nbformat_minor": 5
}
